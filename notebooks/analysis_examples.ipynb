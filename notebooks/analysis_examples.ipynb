{
 "cells": [
  {
   "cell_type": "markdown",
   "metadata": {},
   "source": [
    "# Analysis Examples\n",
    "\n",
    "This notebook provides examples of how to analyze the output data from the fluorescence microscopy image processing and cell tracking project. It includes visualizations and statistical analyses of the tracked cells."
   ]
  },
  {
   "cell_type": "code",
   "execution_count": null,
   "metadata": {
    "collapsed": false
   },
   "outputs": [],
   "source": [
    "import pandas as pd\n",
    "import matplotlib.pyplot as plt\n",
    "\n",
    "# Load the data\n",
    "data = pd.read_csv('path_to_your_output_data.csv')\n",
    "\n",
    "# Display the first few rows of the data\n",
    "data.head()"
   ]
  },
  {
   "cell_type": "markdown",
   "metadata": {},
   "source": [
    "## Visualizing Average Intensities\n",
    "\n",
    "Here we will visualize the average intensities of the tracked cells over time."
   ]
  },
  {
   "cell_type": "code",
   "execution_count": null,
   "metadata": {
    "collapsed": false
   },
   "outputs": [],
   "source": [
    "plt.figure(figsize=(10, 6))\n",
    "for cell_id in data['cell_id'].unique():\n",
    "    cell_data = data[data['cell_id'] == cell_id]\n",
    "    plt.plot(cell_data['frame'], cell_data['average_intensity'], label=f'Cell {cell_id}')\n",
    "\n",
    "plt.title('Average Intensities of Tracked Cells Over Time')\n",
    "plt.xlabel('Frame')\n",
    "plt.ylabel('Average Intensity')\n",
    "plt.legend()\n",
    "plt.show()"
   ]
  },
  {
   "cell_type": "markdown",
   "metadata": {},
   "source": [
    "## Statistical Analysis\n",
    "\n",
    "We can also calculate the standard error of the mean for the average intensities."
   ]
  },
  {
   "cell_type": "code",
   "execution_count": null,
   "metadata": {
    "collapsed": false
   },
   "outputs": [],
   "source": [
    "mean_intensity = data.groupby('frame')['average_intensity'].mean()\n",
    "sem_intensity = data.groupby('frame')['average_intensity'].sem()\n",
    "\n",
    "plt.figure(figsize=(10, 6))\n",
    "plt.errorbar(mean_intensity.index, mean_intensity, yerr=sem_intensity, fmt='o')\n",
    "\n",
    "plt.title('Mean Average Intensity with Standard Error')\n",
    "plt.xlabel('Frame')\n",
    "plt.ylabel('Mean Average Intensity')\n",
    "plt.show()"
   ]
  },
  {
   "cell_type": "markdown",
   "metadata": {},
   "source": [
    "## Conclusion\n",
    "\n",
    "This notebook demonstrated how to load the output data, visualize the average intensities of tracked cells, and perform statistical analyses. Further analyses can be conducted based on specific research questions."
   ]
  }
 ],
 "metadata": {
  "kernelspec": {
   "display_name": "Python 3",
   "language": "python",
   "name": "python3"
  },
  "language_info": {
   "codemirror_mode": {
    "name": "ipython",
    "version": 3
   },
   "file_extension": ".py",
   "mimetype": "text/x-python",
   "name": "python",
   "nbconvert_exporter": "python",
   "pygments_lexer": "ipython3",
   "version": "3.8.5"
  }
 },
 "nbformat": 4,
 "nbformat_minor": 4
}